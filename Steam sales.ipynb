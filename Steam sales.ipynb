{
 "cells": [
  {
   "cell_type": "code",
   "execution_count": null,
   "metadata": {
    "scrolled": true
   },
   "outputs": [],
   "source": [
    "import requests\n",
    "import re\n",
    "from bs4 import BeautifulSoup\n",
    "from IPython.core.display import HTML\n",
    "import pandas as pd\n",
    "import math\n",
    "import datetime\n",
    "req = requests.get(\"https://store.steampowered.com/search/?specials=1&page=1\")\n",
    "page = req.text\n",
    "soup = BeautifulSoup(page, 'html.parser')\n",
    "soup\n",
    "\n",
    "# Loads in beautifulsoup, And loads in other packages such as pandas and math.\n",
    "# Afterwards the steam page is saved to req"
   ]
  },
  {
   "cell_type": "markdown",
   "metadata": {},
   "source": [
    "## Getting title"
   ]
  },
  {
   "cell_type": "code",
   "execution_count": null,
   "metadata": {
    "scrolled": false
   },
   "outputs": [],
   "source": [
    "#Title getter\n",
    "steamTitle = []\n",
    "\n",
    "\n",
    "title = soup.findAll(\"span\",{\"class\",\"title\"}) # Searches for the title in the steam page\n",
    "for span in title: # Loops through all of the span objects in title\n",
    "    steamTitle.append(str(span.text)) \n",
    "    # Puts all titles that it finds into steamTitle\n",
    "print(steamTitle)  \n",
    "\n"
   ]
  },
  {
   "cell_type": "markdown",
   "metadata": {},
   "source": [
    "## Getting rating and converting to numbers"
   ]
  },
  {
   "cell_type": "code",
   "execution_count": null,
   "metadata": {},
   "outputs": [],
   "source": [
    "#Rating getter\n",
    "ratingList = []\n",
    "\n",
    "review_summary = soup.findAll('span', {\"class\":\"search_review_summary\"}) \n",
    "# Searches for a review rating\n",
    "review_summary_str = str(review_summary) \n",
    "# Converts review rating to a string\n",
    "for element in review_summary: # Loops through all of the elements in review_summary\n",
    "    \n",
    "    reviewResult = element.attrs['data-tooltip-html'].split('<br>')\n",
    "\n",
    "    if reviewResult[0] == 'Overwhelmingly Positive': # If reviewresult's list's index corresponds the following rating:\n",
    "        ratingList.append(\"8 \")                     # Converts to a string number that equals the review_rating\n",
    "    elif reviewResult[0] == 'Very Positive':\n",
    "        ratingList.append(\"7 \")\n",
    "    elif reviewResult[0] == 'Positive':\n",
    "         ratingList.append(\"6 \")\n",
    "    elif reviewResult[0] == 'Mostly Positive':\n",
    "         ratingList.append(\"5 \")\n",
    "    elif reviewResult[0] == 'Mixed':\n",
    "         ratingList.append(\"4 \")\n",
    "    elif reviewResult[0] == 'Mostly Negative':\n",
    "         ratingList.append(\"3 \")\n",
    "    elif reviewResult[0] == 'Negative':\n",
    "         ratingList.append(\"2 \")\n",
    "    elif reviewResult[0] == 'Very Negative' or 'Overwhelmingly Neative':\n",
    "         ratingList.append(\"1 \")\n",
    "\n",
    "    else:\n",
    "        ratingList.append(\"No score \") # If you can't find a score, \"No score\" string is added\n",
    "print(ratingList)"
   ]
  },
  {
   "cell_type": "markdown",
   "metadata": {},
   "source": [
    "## Getting review numbers"
   ]
  },
  {
   "cell_type": "code",
   "execution_count": null,
   "metadata": {},
   "outputs": [],
   "source": [
    "# Review summary getter\n",
    "reviewList = []\n",
    "\n",
    "\n",
    "review_summary = soup.findAll('span', {\"class\":\"search_review_summary\"})\n",
    "# Searches after search_review_summary in all of the span elements\n",
    "review_summary_str = str(review_summary) \n",
    "# Converts what it finds into a string\n",
    "\n",
    "for element in review_summary: \n",
    "\n",
    "    reviewResult = element.attrs['data-tooltip-html'].split('<br>')\n",
    "\n",
    "    reviewSplit = reviewResult[1].split(\" \") \n",
    "# Splits away the review summary\n",
    "    reviewList.append(reviewSplit[3]) \n",
    "# Puts the ammount of reviews per game into reviewList\n",
    "print(reviewList)\n"
   ]
  },
  {
   "cell_type": "markdown",
   "metadata": {},
   "source": [
    "## Getting new price and discounted price"
   ]
  },
  {
   "cell_type": "code",
   "execution_count": null,
   "metadata": {
    "scrolled": true
   },
   "outputs": [],
   "source": [
    "#Discounted price\n",
    "priceList = []\n",
    "newPrice = []\n",
    "\n",
    "\n",
    "price = soup.findAll(\"div\",{\"class\",\"search_price\"})\n",
    "# Searches for price in all of the divs, that contain the search_price class\n",
    "for div in price:\n",
    "    splitPrice = str(div.text).split('€') # Removes the € from a string\n",
    "    priceList.append(re.sub(' +', ' ', splitPrice[0]).strip(\"\\r\\n\"))\n",
    "    # Replaces all spaces that are created in 'Free to play'\n",
    "\n",
    "\n",
    "    try:\n",
    "      newPrice.append(re.sub(' +', ' ', splitPrice[1]).strip(\"\\r\\n\")) \n",
    "\n",
    "    except:\n",
    "      newPrice.append(re.sub(' +', ' ', splitPrice[0]).strip(\"\\r\\n\"))\n",
    "\n",
    "print(newPrice)"
   ]
  },
  {
   "cell_type": "markdown",
   "metadata": {},
   "source": [
    "## Getting date for each game"
   ]
  },
  {
   "cell_type": "code",
   "execution_count": null,
   "metadata": {},
   "outputs": [],
   "source": [
    "#Release date getter\n",
    "dateList = []\n",
    "\n",
    "releaseDate = soup.findAll(\"div\",{\"class \",\"search_released\"})\n",
    "# Searches for release_date in all of the divs that contain the search_released tag\n",
    "for div in releaseDate:\n",
    "    dateList.append(str(div.text))\n",
    "    # Inserts all dates into dateList and converts to a string\n",
    "print(dateList)  "
   ]
  },
  {
   "cell_type": "markdown",
   "metadata": {},
   "source": [
    "## Getting discount percentage"
   ]
  },
  {
   "cell_type": "code",
   "execution_count": null,
   "metadata": {},
   "outputs": [],
   "source": [
    "#Percantage getter\n",
    "percentageList = []\n",
    "\n",
    "releaseDate = soup.findAll(\"div\",{\"class\",\"search_discount\"})\n",
    "# Searches for discount in all of the divs that contain the search_discount tag\n",
    "\n",
    "for div in releaseDate:\n",
    "\n",
    "    if not div.text.strip(): # If the string does not contain something\n",
    "        percentageList.append(\"No Discount\") # Inserts \"No discount\" if no discount is found\n",
    "    else: # If the string contains something\n",
    "        percentageList.append(str(div.text).strip(\"\\n\")) # Inserts percentage into percentageList\n",
    "\n",
    "print(percentageList) "
   ]
  },
  {
   "cell_type": "markdown",
   "metadata": {},
   "source": [
    "## Getting platform avaliability"
   ]
  },
  {
   "cell_type": "code",
   "execution_count": null,
   "metadata": {},
   "outputs": [],
   "source": [
    "#Platform avaliability getter\n",
    "platformListWin = []\n",
    "platformListMac = []\n",
    "platformListLinux = []\n",
    "\n",
    "for platform in soup.find_all('div', {\"class\":\"col search_name ellipsis\"}):#Söker efter platformer i alla divar som har col search_name ellipsis klassen\n",
    "    title = platform.find('span',attrs={'class':'title'}).text\n",
    "    if platform.find('span',{\"class\":\"win\"}):\n",
    "        platformListWin.append(1)\n",
    "    else:\n",
    "        platformListWin.append(0)\n",
    "\n",
    "    if platform.find(\"span\",{\"class\":\"mac\"}): # If you find MacOS\n",
    "        platformListMac.append(1)\n",
    "    else:\n",
    "        platformListMac.append(0)\n",
    "\n",
    "    if platform.find(\"span\",{\"class\":\"linux\"}): # If you find Linux\n",
    "        platformListLinux.append(1)\n",
    "    else:\n",
    "        platformListLinux.append(0)\n",
    "print(platformListWin)"
   ]
  },
  {
   "cell_type": "markdown",
   "metadata": {},
   "source": [
    "##  Getting current date when data was imported"
   ]
  },
  {
   "cell_type": "code",
   "execution_count": null,
   "metadata": {},
   "outputs": [],
   "source": [
    "#When imported getter\n",
    "currentDate = datetime.date.today().strftime(\"%d%b%Y\")# Takes current date and inserts it into currentDate\n",
    "currentDate\n",
    "\n",
    "print(len(steamTitle),len(reviewList),len(ratingList),\n",
    "      len( percentageList), len(dateList), len(newPrice),\n",
    "      len(priceList),len(platformListWin),len(platformListLinux),\n",
    "      len(platformListMac),len(currentDate ))"
   ]
  },
  {
   "cell_type": "markdown",
   "metadata": {},
   "source": [
    "## Creating Dataframe and exporting to csv"
   ]
  },
  {
   "cell_type": "code",
   "execution_count": null,
   "metadata": {},
   "outputs": [],
   "source": [
    "\n",
    "dataRows = None\n",
    "\n",
    "# Creates a dataframe from all of the lists with previously scraped data\n",
    "dataRows = pd.DataFrame({\"Game title\":steamTitle, \"Reviews\":reviewList,\"Rating\":ratingList,\n",
    "                                    \"Sale percentage\":percentageList,\n",
    "                                        'Release date':dateList, 'Pris':newPrice,\n",
    "                                           'OrdinariePris':priceList,'Win':platformListWin,\n",
    "                                    'Linux':platformListLinux,\n",
    "                                    'OSX':platformListMac,\n",
    "                                    'Tid':currentDate}) \n",
    "# Exports data to a csv\n",
    "dataRows.to_csv('steamsale.csv')\n",
    "\n",
    "\n",
    "dataRows.head(25)"
   ]
  },
  {
   "cell_type": "markdown",
   "metadata": {},
   "source": [
    "## End of program"
   ]
  }
 ],
 "metadata": {
  "kernelspec": {
   "display_name": "Python 3",
   "language": "python",
   "name": "python3"
  },
  "language_info": {
   "codemirror_mode": {
    "name": "ipython",
    "version": 3
   },
   "file_extension": ".py",
   "mimetype": "text/x-python",
   "name": "python",
   "nbconvert_exporter": "python",
   "pygments_lexer": "ipython3",
   "version": "3.8.3"
  }
 },
 "nbformat": 4,
 "nbformat_minor": 4
}
