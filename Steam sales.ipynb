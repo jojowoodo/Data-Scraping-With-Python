{
 "cells": [
  {
   "cell_type": "code",
   "execution_count": null,
   "metadata": {
    "scrolled": true
   },
   "outputs": [],
   "source": [
    "import requests\n",
    "import re\n",
    "from bs4 import BeautifulSoup\n",
    "from IPython.core.display import HTML\n",
    "import pandas as pd\n",
    "import math\n",
    "import datetime\n",
    "req = requests.get(\"https://store.steampowered.com/search/?specials=1&page=1\")\n",
    "page = req.text\n",
    "soup = BeautifulSoup(page, 'html.parser')\n",
    "soup\n",
    "\n",
    "##Laddar in beautifulsoup, importerar en massa paket som pandas å math, sparar steam sidan till req variabeln"
   ]
  },
  {
   "cell_type": "markdown",
   "metadata": {},
   "source": [
    "## Getting title"
   ]
  },
  {
   "cell_type": "code",
   "execution_count": null,
   "metadata": {
    "scrolled": false
   },
   "outputs": [],
   "source": [
    "#Title getter\n",
    "steamTitle = []\n",
    "\n",
    "\n",
    "title = soup.findAll(\"span\",{\"class\",\"title\"})#Söker efter titeln på steams page\n",
    "for span in title: #loopar igenom alla span obejct i title\n",
    "    steamTitle.append(str(span.text)) #stoppar alla titles som den hittar in i steamTitle list\n",
    "print(steamTitle)  \n",
    "\n"
   ]
  },
  {
   "cell_type": "markdown",
   "metadata": {},
   "source": [
    "## Getting rating and converting to numbers"
   ]
  },
  {
   "cell_type": "code",
   "execution_count": null,
   "metadata": {},
   "outputs": [],
   "source": [
    "#rating getter\n",
    "ratingList = []\n",
    "\n",
    "review_summary = soup.findAll('span', {\"class\":\"search_review_summary\"}) #Söker efter review rating\n",
    "review_summary_str = str(review_summary) #konverterar review rating till en string\n",
    "for element in review_summary:#loopar igenom alla element i review_summary\n",
    "    reviewResult = element.attrs['data-tooltip-html'].split('<br>')\n",
    "    #print(element.attrs['data-tooltip-html'].split('<br>'))\n",
    "\n",
    "    if reviewResult[0] == 'Overwhelmingly Positive':#om reviewresult listan's current index motsvarar följande raitng\n",
    "        ratingList.append(\"8 \")                     #>Konverterar till en string siffra som motsvarar ratingen\n",
    "    elif reviewResult[0] == 'Very Positive':\n",
    "        ratingList.append(\"7 \")\n",
    "    elif reviewResult[0] == 'Positive':\n",
    "         ratingList.append(\"6 \")\n",
    "    elif reviewResult[0] == 'Mostly Positive':\n",
    "         ratingList.append(\"5 \")\n",
    "    elif reviewResult[0] == 'Mixed':\n",
    "         ratingList.append(\"4 \")\n",
    "    elif reviewResult[0] == 'Mostly Negative':\n",
    "         ratingList.append(\"3 \")\n",
    "    elif reviewResult[0] == 'Negative':\n",
    "         ratingList.append(\"2 \")\n",
    "    elif reviewResult[0] == 'Very Negative' or 'Overwhelmingly Neative':\n",
    "         ratingList.append(\"1 \")\n",
    "\n",
    "    else:\n",
    "        ratingList.append(\"No score \")\n",
    "print(ratingList)"
   ]
  },
  {
   "cell_type": "markdown",
   "metadata": {},
   "source": [
    "## Getting review numbers"
   ]
  },
  {
   "cell_type": "code",
   "execution_count": null,
   "metadata": {},
   "outputs": [],
   "source": [
    "#Review summary getter\n",
    "reviewList = []\n",
    "\n",
    "\n",
    "review_summary = soup.findAll('span', {\"class\":\"search_review_summary\"})#Söker efter search_review_summary i alla span\n",
    "review_summary_str = str(review_summary) #konverterar det den hittar till en string \n",
    "\n",
    "for element in review_summary: \n",
    "\n",
    "    reviewResult = element.attrs['data-tooltip-html'].split('<br>')#\n",
    "    #print(element.attrs['data-tooltip-html'].split('<br>'))\n",
    "    reviewSplit = reviewResult[1].split(\" \") #Splittar bort \"Very positive\"\n",
    "    reviewList.append(reviewSplit[3]) #Sätter in 3e indexen (som är antalet reviews) in i listan\n",
    "print(reviewList)\n"
   ]
  },
  {
   "cell_type": "markdown",
   "metadata": {},
   "source": [
    "## Getting new price and discounted price"
   ]
  },
  {
   "cell_type": "code",
   "execution_count": null,
   "metadata": {
    "scrolled": true
   },
   "outputs": [],
   "source": [
    "#Discounted price\n",
    "priceList = []\n",
    "newPrice = []\n",
    "\n",
    "\n",
    "price = soup.findAll(\"div\",{\"class\",\"search_price\"})#Söker efter pris i alla divs som har search_price klassen\n",
    "for div in price:\n",
    "    splitPrice = str(div.text).split('€') #tar bort € från string\n",
    "    priceList.append(re.sub(' +', ' ', splitPrice[0]).strip(\"\\r\\n\"))# re.sub(' +', ' ', splitPrice[0]).strip(\"\\r\\n\") ->\n",
    "    # -> replacerar alla spaces som skapas i free to play\n",
    "\n",
    "\n",
    "    try:\n",
    "      newPrice.append(re.sub(' +', ' ', splitPrice[1]).strip(\"\\r\\n\")) #[1] current price???\n",
    "\n",
    "    except:\n",
    "      newPrice.append(re.sub(' +', ' ', splitPrice[0]).strip(\"\\r\\n\"))\n",
    "\n",
    "print(newPrice)"
   ]
  },
  {
   "cell_type": "markdown",
   "metadata": {},
   "source": [
    "## Getting date for each game"
   ]
  },
  {
   "cell_type": "code",
   "execution_count": null,
   "metadata": {},
   "outputs": [],
   "source": [
    "#releasedate getter\n",
    "dateList = []\n",
    "\n",
    "releaseDate = soup.findAll(\"div\",{\"class\",\"search_released\"})#Söker efter release date i alla div som har search_released\n",
    "for div in releaseDate:\n",
    "    dateList.append(str(div.text))#sätter in i listan och konverterar till en string\n",
    "print(dateList)  "
   ]
  },
  {
   "cell_type": "markdown",
   "metadata": {},
   "source": [
    "## Getting discount percentage"
   ]
  },
  {
   "cell_type": "code",
   "execution_count": null,
   "metadata": {},
   "outputs": [],
   "source": [
    "## percantage getter\n",
    "percentageList = []\n",
    "\n",
    "releaseDate = soup.findAll(\"div\",{\"class\",\"search_discount\"})#Söker efter discount i alla divvar som har search_discount classes\n",
    "for div in releaseDate:\n",
    "\n",
    "    if not div.text.strip():#Om strängen inte har något i sig\n",
    "        percentageList.append(\"No Discount\")#Sätter in \"No discount\" om man inte hittar en discount\n",
    "    else:#Oh strängen har något i sig\n",
    "        percentageList.append(str(div.text).strip(\"\\n\"))#sätter in percentage\n",
    "\n",
    "print(percentageList) "
   ]
  },
  {
   "cell_type": "markdown",
   "metadata": {},
   "source": [
    "## Getting platform avaliability"
   ]
  },
  {
   "cell_type": "code",
   "execution_count": null,
   "metadata": {},
   "outputs": [],
   "source": [
    "platformListWin = []\n",
    "platformListMac = []\n",
    "platformListLinux = []\n",
    "\n",
    "for platform in soup.find_all('div', {\"class\":\"col search_name ellipsis\"}):#Söker efter platformer i alla divar som har col search_name ellipsis klassen\n",
    "    title = platform.find('span',attrs={'class':'title'}).text\n",
    "    if platform.find('span',{\"class\":\"win\"}):\n",
    "        platformListWin.append(1)\n",
    "    else:\n",
    "        platformListWin.append(0)\n",
    "\n",
    "    if platform.find(\"span\",{\"class\":\"mac\"}):#Om den hittar mac (bläää)\n",
    "        platformListMac.append(1)\n",
    "    else:\n",
    "        platformListMac.append(0)\n",
    "\n",
    "    if platform.find(\"span\",{\"class\":\"linux\"}):#Om den hittar linux\n",
    "        platformListLinux.append(1)\n",
    "    else:\n",
    "        platformListLinux.append(0)\n",
    "print(platformListWin)"
   ]
  },
  {
   "cell_type": "markdown",
   "metadata": {},
   "source": [
    "##  Getting current date when data was imported"
   ]
  },
  {
   "cell_type": "code",
   "execution_count": null,
   "metadata": {},
   "outputs": [],
   "source": [
    "# when imported getter\n",
    "currentDate = datetime.date.today().strftime(\"%d%b%Y\")# tar current date och sätter det in i ...\"currentDate\"\n",
    "currentDate\n",
    "\n",
    "print(len(steamTitle),len(reviewList),len(ratingList),len( percentageList), len(dateList), len(newPrice),len(priceList),len(platformListWin),len(platformListLinux), len(platformListMac),len(currentDate ))"
   ]
  },
  {
   "cell_type": "markdown",
   "metadata": {},
   "source": [
    "## Creating Dataframe and exporting to csv"
   ]
  },
  {
   "cell_type": "code",
   "execution_count": null,
   "metadata": {},
   "outputs": [],
   "source": [
    "\n",
    "dataRows = None\n",
    "\n",
    "dataRows = pd.DataFrame({\"Game title\":steamTitle, \"Reviews\":reviewList,\"Rating\":ratingList,\n",
    "                                    \"Sale percentage\":percentageList,\n",
    "                                        'Release date':dateList, 'Pris':newPrice,\n",
    "                                           'OrdinariePris':priceList,'Win':platformListWin,\n",
    "                                    'Linux':platformListLinux,\n",
    "                                    'OSX':platformListMac,\n",
    "                                    'Tid':currentDate}) \n",
    "\n",
    "dataRows.to_csv('steamsale.csv')\n",
    "#dataRows.head(25)\n",
    "\n",
    "dataRows.head(25)"
   ]
  },
  {
   "cell_type": "markdown",
   "metadata": {},
   "source": [
    "## End of program"
   ]
  }
 ],
 "metadata": {
  "kernelspec": {
   "display_name": "Python 3",
   "language": "python",
   "name": "python3"
  },
  "language_info": {
   "codemirror_mode": {
    "name": "ipython",
    "version": 3
   },
   "file_extension": ".py",
   "mimetype": "text/x-python",
   "name": "python",
   "nbconvert_exporter": "python",
   "pygments_lexer": "ipython3",
   "version": "3.8.3"
  }
 },
 "nbformat": 4,
 "nbformat_minor": 4
}
